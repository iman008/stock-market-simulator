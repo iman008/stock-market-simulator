{
 "cells": [
  {
   "attachments": {},
   "cell_type": "markdown",
   "id": "88a1a509-6f46-4bea-a4c0-3f215ce3cbb5",
   "metadata": {},
   "source": [
    "# Stock Market Simulator"
   ]
  },
  {
   "attachments": {},
   "cell_type": "markdown",
   "id": "8ea62b34-b799-4126-a4e2-2059b293b56f",
   "metadata": {},
   "source": [
    "## Imports"
   ]
  },
  {
   "cell_type": "code",
   "execution_count": null,
   "id": "307c6c77-109e-47bd-bbb6-ca8e43dcd39c",
   "metadata": {},
   "outputs": [],
   "source": [
    "from datetime import datetime"
   ]
  },
  {
   "attachments": {},
   "cell_type": "markdown",
   "id": "03d7e7ca-8bd0-42fb-953f-34f585ac9071",
   "metadata": {},
   "source": [
    "<hr>"
   ]
  },
  {
   "attachments": {},
   "cell_type": "markdown",
   "id": "ed676402-748d-4327-810d-881406ff8540",
   "metadata": {},
   "source": [
    "## Classes"
   ]
  },
  {
   "attachments": {},
   "cell_type": "markdown",
   "id": "c5bbe857-b368-48a8-bed4-406c699f4173",
   "metadata": {},
   "source": [
    "### Account"
   ]
  },
  {
   "cell_type": "code",
   "execution_count": 4,
   "id": "0dc41d49-a8e6-45ae-80b6-4d0aaaaa0d4a",
   "metadata": {},
   "outputs": [],
   "source": [
    "class Account:\n",
    "    def __init__ (self, name: str, surname: str, national_number: str, date_of_birth: datetime, balance: int):\n",
    "        self.name = name\n",
    "        self.surname = surname\n",
    "        self.national_number = national_number\n",
    "        self.date_of_birth = date_of_birth\n",
    "        self.balance = balance\n",
    "    \n",
    "    @property\n",
    "    def name (self) -> str:\n",
    "        return self._name\n",
    "    \n",
    "    @name.setter\n",
    "    def name (self, value):\n",
    "        if not isinstance(value, str):\n",
    "            raise TypeError(\"Name must be string!\")\n",
    "        if not value:\n",
    "            raise ValueError(\"Name can't be empty!\")\n",
    "        if not value.replace(\" \", \"\").isalpha():\n",
    "            raise ValueError(\"Name must only contain spaces and alphabetical characters!\")\n",
    "        self._name = value.strip().capitalize()\n",
    "    \n",
    "    @property\n",
    "    def surname (self) -> str:\n",
    "        return self._surname\n",
    "    \n",
    "    @surname.setter\n",
    "    def surname (self, value: str):\n",
    "        if not isinstance(value, str):\n",
    "            raise TypeError(\"Surname must be string!\")\n",
    "        if not value:\n",
    "            raise ValueError(\"Surname can't be empty!\")\n",
    "        if not value.replace(\" \", \"\").isalpha():\n",
    "            raise ValueError(\"Surname must only contain spaces and alphabetical characters!\")\n",
    "        self._surname = value.strip().capitalize()\n",
    "\n",
    "    @property\n",
    "    def national_number (self) -> str:\n",
    "        return self._national_number\n",
    "    \n",
    "    @national_number.setter\n",
    "    def national_number (self, value: str):\n",
    "        if not isinstance(value, str):\n",
    "            raise TypeError(\"National number must be string!\")\n",
    "        if len(value) != 10:\n",
    "            raise ValueError(\"National number must contain exactly 10 characters!\")\n",
    "        if not value.isdigit():\n",
    "            raise ValueError(\"National number must only contain digits!\")\n",
    "        self._national_number = value\n",
    "    \n",
    "    @property\n",
    "    def date_of_birth (self) -> datetime:\n",
    "        return self._date_of_birth\n",
    "    \n",
    "    @date_of_birth.setter\n",
    "    def date_of_birth (self, value: datetime):\n",
    "        if not isinstance(value, datetime):\n",
    "            raise TypeError(\"Date of birth must be a datetime object!\")\n",
    "        self._date_of_birth = value\n",
    "    \n",
    "    @property\n",
    "    def balance (self) -> int:\n",
    "        return self._balance\n",
    "    \n",
    "    @balance.setter\n",
    "    def balance (self, value: int):\n",
    "        if not isinstance(value, int):\n",
    "            raise TypeError(\"Balance must be integer!\")\n",
    "        if value <= 0:\n",
    "            raise ValueError(\"Balance must be positive!\")\n",
    "        self._balance = value"
   ]
  },
  {
   "attachments": {},
   "cell_type": "markdown",
   "id": "09f7fbdb-65c9-439a-8e2b-e26b709c589b",
   "metadata": {},
   "source": [
    "### Market"
   ]
  },
  {
   "cell_type": "code",
   "execution_count": null,
   "id": "46ed4696-acd2-4d08-8eab-cdf881999be8",
   "metadata": {},
   "outputs": [],
   "source": []
  },
  {
   "attachments": {},
   "cell_type": "markdown",
   "id": "6990580a-09db-434f-8baf-a61bd2533f08",
   "metadata": {},
   "source": [
    "<hr>"
   ]
  },
  {
   "attachments": {},
   "cell_type": "markdown",
   "id": "f233fcf1-f355-4327-93c7-33abe93009ab",
   "metadata": {},
   "source": [
    "## Visualization"
   ]
  },
  {
   "cell_type": "code",
   "execution_count": null,
   "id": "f34c2676-24f9-4019-8af3-61797376b552",
   "metadata": {},
   "outputs": [],
   "source": []
  }
 ],
 "metadata": {
  "kernelspec": {
   "display_name": "Python 3 (ipykernel)",
   "language": "python",
   "name": "python3"
  },
  "language_info": {
   "codemirror_mode": {
    "name": "ipython",
    "version": 3
   },
   "file_extension": ".py",
   "mimetype": "text/x-python",
   "name": "python",
   "nbconvert_exporter": "python",
   "pygments_lexer": "ipython3",
   "version": "3.11.2"
  }
 },
 "nbformat": 4,
 "nbformat_minor": 5
}
