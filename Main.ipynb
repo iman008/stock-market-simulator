{
 "cells": [
  {
   "cell_type": "markdown",
   "id": "88a1a509-6f46-4bea-a4c0-3f215ce3cbb5",
   "metadata": {},
   "source": [
    "# Stock Market Simulator"
   ]
  },
  {
   "cell_type": "markdown",
   "id": "8ea62b34-b799-4126-a4e2-2059b293b56f",
   "metadata": {},
   "source": [
    "## Imports"
   ]
  },
  {
   "cell_type": "code",
   "execution_count": null,
   "id": "307c6c77-109e-47bd-bbb6-ca8e43dcd39c",
   "metadata": {},
   "outputs": [],
   "source": []
  },
  {
   "cell_type": "markdown",
   "id": "03d7e7ca-8bd0-42fb-953f-34f585ac9071",
   "metadata": {},
   "source": [
    "<hr>"
   ]
  },
  {
   "cell_type": "markdown",
   "id": "ed676402-748d-4327-810d-881406ff8540",
   "metadata": {},
   "source": [
    "## Classes"
   ]
  },
  {
   "cell_type": "markdown",
   "id": "c5bbe857-b368-48a8-bed4-406c699f4173",
   "metadata": {},
   "source": [
    "### Account"
   ]
  },
  {
   "cell_type": "code",
   "execution_count": null,
   "id": "0dc41d49-a8e6-45ae-80b6-4d0aaaaa0d4a",
   "metadata": {},
   "outputs": [],
   "source": []
  },
  {
   "cell_type": "markdown",
   "id": "09f7fbdb-65c9-439a-8e2b-e26b709c589b",
   "metadata": {},
   "source": [
    "### Market"
   ]
  },
  {
   "cell_type": "code",
   "execution_count": null,
   "id": "46ed4696-acd2-4d08-8eab-cdf881999be8",
   "metadata": {},
   "outputs": [],
   "source": []
  },
  {
   "cell_type": "markdown",
   "id": "6990580a-09db-434f-8baf-a61bd2533f08",
   "metadata": {},
   "source": [
    "<hr>"
   ]
  },
  {
   "cell_type": "markdown",
   "id": "f233fcf1-f355-4327-93c7-33abe93009ab",
   "metadata": {},
   "source": [
    "## Visualization"
   ]
  },
  {
   "cell_type": "code",
   "execution_count": null,
   "id": "f34c2676-24f9-4019-8af3-61797376b552",
   "metadata": {},
   "outputs": [],
   "source": []
  }
 ],
 "metadata": {
  "kernelspec": {
   "display_name": "Python 3 (ipykernel)",
   "language": "python",
   "name": "python3"
  },
  "language_info": {
   "codemirror_mode": {
    "name": "ipython",
    "version": 3
   },
   "file_extension": ".py",
   "mimetype": "text/x-python",
   "name": "python",
   "nbconvert_exporter": "python",
   "pygments_lexer": "ipython3",
   "version": "3.10.9"
  }
 },
 "nbformat": 4,
 "nbformat_minor": 5
}
